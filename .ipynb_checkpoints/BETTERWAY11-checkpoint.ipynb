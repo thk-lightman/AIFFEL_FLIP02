{
 "cells": [
  {
   "cell_type": "markdown",
   "metadata": {},
   "source": [
    "# CHAPTER 2. 리스트와 딕셔너리\n",
    "---\n",
    "많은 프로그램이 사람보다 기계가 하기에 더 적합한 반복적인 작업을 자동화하고자 만들어졌다.\n",
    "- 이런 작업을 과리하는 가장 일반적인 방법 : 리스트(list)\n",
    "- 리스트를 보완활 수 있는 타입 : 딕셔너리(dict)\n",
    "- 파이썬은 리티스와 딕셔너리를 다룰 때 가독성을 좋게 하고 기능을 확장해주는 특별한 구문과 내장 모듈을 제공한다."
   ]
  },
  {
   "cell_type": "markdown",
   "metadata": {},
   "source": [
    "### BETTER WAY 11. 시퀀스 슬라이싱하는 방법을 익혀라"
   ]
  },
  {
   "cell_type": "markdown",
   "metadata": {},
   "source": [
    "### 슬라이싱\n",
    "- 시퀀스(연속적으로 이어진 자료형, 리스트/튜블/range/문자열/..., [추가자료 링크](https://dojang.io/mod/page/view.php?id=2205))를 여러조각(슬라이스, slice)으로 나누는 것\n",
    "- 사용구문 : a = ['a', 'b', 'c', 'd', 'e', 'f', 'g', 'h']\n",
    "\n",
    "| 형태 | 내용 | 예시 | 예시 동작 결과 |\n",
    "|:----|:----|:----|:----|\n",
    "| 리스트\\[시작:끝] | 기본 구문<br>구문의 결과에 시작 인덱스에 있는 원소는 포함되지만, 끝 인덱스에 있는 원소는 포함되지 않는다. | a\\[3:5] | \\['d', 'e'] |\n",
    "| 리스트\\[:끝] | 처음부터 끝 인덱스 이전까지 | a\\[:5] | \\['a', 'b', 'c', 'd', 'e'] |\n",
    "| 리스트\\[시작:] | 시작이후의 모든 원소 | a\\[5:] | \\['f', 'g', 'h'] |\n",
    "| 리스트\\[:-n] | 처음부터 (마지막 인덱스-n)번째까지 | a\\[:-3] | \\['a', 'b', 'c', 'd', 'e'] | \n",
    "| 리스트\\[-n:] | (마지막 인덱스-n)번째부터 끝까지 | a\\[-3:] | \\['f', 'g', 'h'] |\n",
    "\n",
    "- 추가 예시"
   ]
  },
  {
   "cell_type": "code",
   "execution_count": 11,
   "metadata": {},
   "outputs": [
    {
     "name": "stdout",
     "output_type": "stream",
     "text": [
      "['a', 'b', 'c', 'd', 'e', 'f', 'g', 'h']\n",
      "['a', 'b', 'c', 'd', 'e']\n",
      "['a', 'b', 'c', 'd', 'e', 'f', 'g']\n",
      "['e', 'f', 'g', 'h']\n",
      "['f', 'g', 'h']\n",
      "['c', 'd', 'e']\n",
      "['c', 'd', 'e', 'f', 'g']\n",
      "['f', 'g']\n"
     ]
    }
   ],
   "source": [
    "         #   0    1    2    3    4    5    6    7\n",
    "print(a[:])     # ['a', 'b', 'c', 'd', 'e', 'f', 'g', 'h']\n",
    "print(a[:5])    # ['a', 'b', 'c', 'd', 'e']\n",
    "print(a[:-1])   # ['a', 'b', 'c', 'd', 'e', 'f', 'g']\n",
    "print(a[4:])    #                     ['e', 'f', 'g', 'h']\n",
    "print(a[-3:])   #                          ['f', 'g', 'h']\n",
    "print(a[2:5])   #           ['c', 'd', 'e']\n",
    "print(a[2:-1])  #           ['c', 'd', 'e', 'f', 'g']\n",
    "print(a[-3:-1]) #                          ['f', 'g']"
   ]
  },
  {
   "cell_type": "markdown",
   "metadata": {},
   "source": [
    "- 인덱스 범위를 넘어가는 슬라이싱 : 무시됨\n",
    "- 슬라이싱으로 리스트 복사 : copied_list = somelist\\[:]\n",
    "- 리스트의 슬라이싱하여 만들어진 리스트는 완전히 새로운 리스트이다. 따라서, 슬라이싱 결과로 얻은 리스트를 변경하여도 원본 리스트는 바뀌지 않는다. 반대의 경우도 만찬가지이다.\n",
    "    - [Python에서 is 와 == 의 차이](https://tech.songyunseop.com/post/2017/09/python-comparing/)\n",
    "        - is : reference, id 비교\n",
    "        - == : 값 비교"
   ]
  },
  {
   "cell_type": "code",
   "execution_count": 21,
   "metadata": {},
   "outputs": [],
   "source": [
    "b = a[:]\n",
    "assert b == a and b is not a  # no error"
   ]
  },
  {
   "cell_type": "code",
   "execution_count": 22,
   "metadata": {},
   "outputs": [
    {
     "name": "stdout",
     "output_type": "stream",
     "text": [
      "a의 id : 2889496212992\n",
      "b의 id : 2889489597056\n",
      "a is b : False\n",
      "\n",
      "a의 값 : ['a', 'b', 99, 22, 14, 'h']\n",
      "b의 값 : ['a', 'b', 99, 22, 14, 'h']\n",
      "a == b : True\n"
     ]
    }
   ],
   "source": [
    "b = a[:]\n",
    "print(f'a의 id : {id(a)}')\n",
    "print(f'b의 id : {id(b)}')\n",
    "print(f'a is b : {a is b}\\n')\n",
    "print(f'a의 값 : {a}')\n",
    "print(f'b의 값 : {b}')\n",
    "print(f'a == b : {a==b}')"
   ]
  },
  {
   "cell_type": "markdown",
   "metadata": {},
   "source": [
    "- 슬라이싱을 이용한 리스트 값 변경\n"
   ]
  },
  {
   "cell_type": "code",
   "execution_count": 25,
   "metadata": {},
   "outputs": [
    {
     "name": "stdout",
     "output_type": "stream",
     "text": [
      "이전: ['a', 'b', 47, 11, 22, 14]\n",
      "이후: ['a', 'b', 99, 22, 14] \n",
      "\n",
      "이전: ['a', 'b', 99, 22, 14]\n",
      "이후: ['a', 'b', 47, 11, 22, 14]\n"
     ]
    }
   ],
   "source": [
    "print('이전:', a)\n",
    "a[2:7] = [99, 22, 14]\n",
    "print('이후:', a, '\\n')\n",
    "\n",
    "print('이전:', a)\n",
    "a[2:3] = [47, 11]\n",
    "print('이후:', a)"
   ]
  },
  {
   "cell_type": "code",
   "execution_count": null,
   "metadata": {},
   "outputs": [],
   "source": []
  }
 ],
 "metadata": {
  "interpreter": {
   "hash": "b3ba2566441a7c06988d0923437866b63cedc61552a5af99d1f4fb67d367b25f"
  },
  "kernelspec": {
   "display_name": "Python 3",
   "language": "python",
   "name": "python3"
  },
  "language_info": {
   "codemirror_mode": {
    "name": "ipython",
    "version": 3
   },
   "file_extension": ".py",
   "mimetype": "text/x-python",
   "name": "python",
   "nbconvert_exporter": "python",
   "pygments_lexer": "ipython3",
   "version": "3.8.5"
  }
 },
 "nbformat": 4,
 "nbformat_minor": 2
}
