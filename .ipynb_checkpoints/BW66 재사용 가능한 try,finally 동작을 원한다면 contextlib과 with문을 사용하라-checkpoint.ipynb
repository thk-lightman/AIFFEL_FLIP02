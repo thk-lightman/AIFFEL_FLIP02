{
 "cells": [
  {
   "cell_type": "markdown",
   "metadata": {},
   "source": [
    "# BW66 재사용 가능한 try,finally 동작을 원한다면 contextlib과 with문을 사용하라"
   ]
  },
  {
   "cell_type": "markdown",
   "metadata": {},
   "source": [
    "- with문\n",
    "  - [구문] `with 객체 (as ALIAS) : 본문`\n",
    "    - 단, 이때 객체는 \\_\\_enter\\_\\_, \\_\\_exit\\_\\_ 메소드를 포함해야 함\n",
    "  - [의미] with문 안의 본문은 **객체**의 *context*를 불러와서 실행(\\_\\_enter\\_\\_)되고 with문 종료 시 자동으로 종료(\\_\\_exit\\_\\_)한다."
   ]
  },
  {
   "cell_type": "markdown",
   "metadata": {},
   "source": [
    "- *context*:  [컨텍스트란 정지된 것이 아니라 끊임없이 흘러가는 하나의 상태(status)이다.](https://organicmedia2.pressbooks.com/chapter/4-elements-of-context/)이다.\n",
    "- status: 객체의 저장 상태"
   ]
  },
  {
   "cell_type": "code",
   "execution_count": 16,
   "metadata": {},
   "outputs": [],
   "source": [
    "!echo \"# it's test data\" > test.txt"
   ]
  },
  {
   "cell_type": "code",
   "execution_count": 17,
   "metadata": {},
   "outputs": [
    {
     "name": "stdout",
     "output_type": "stream",
     "text": [
      "\"# it's test data\" \n",
      "\n"
     ]
    }
   ],
   "source": [
    "with open('test.txt') as f :\n",
    "    content = f.read()\n",
    "    print(content)"
   ]
  },
  {
   "cell_type": "markdown",
   "metadata": {},
   "source": [
    "## with와 사용자 설정 함수/객체의 쉬운 사용법: contextlib"
   ]
  },
  {
   "cell_type": "code",
   "execution_count": 20,
   "metadata": {},
   "outputs": [],
   "source": [
    "import logging\n",
    "\n",
    "def my_function():\n",
    "    logging.debug('1: 디버깅 데이터')       #프로그램의 디폴트 로그 수준은 WARNING\n",
    "    logging.error('2: 이 부분은 오류 로그')\n",
    "    logging.debug('3: 추가 디버깅 데이터')"
   ]
  },
  {
   "cell_type": "code",
   "execution_count": 21,
   "metadata": {},
   "outputs": [
    {
     "name": "stderr",
     "output_type": "stream",
     "text": [
      "ERROR:root:2: 이 부분은 오류 로그\n"
     ]
    }
   ],
   "source": [
    "my_function()"
   ]
  },
  {
   "cell_type": "code",
   "execution_count": 28,
   "metadata": {},
   "outputs": [],
   "source": [
    "from contextlib import contextmanager\n",
    "\n",
    "@contextmanager\n",
    "def debug_logging(level):\n",
    "    logger = logging.getLogger()\n",
    "    old_level = logger.getEffectiveLevel()\n",
    "#     print(old_level)\n",
    "    logger.setLevel(level)\n",
    "#     print(logger.getEffectiveLevel())\n",
    "    try:\n",
    "        yield                            # with 블록의 내용이 실행되는 부분을 지정\n",
    "    finally:\n",
    "        logger.setLevel(old_level)"
   ]
  },
  {
   "cell_type": "code",
   "execution_count": 29,
   "metadata": {
    "scrolled": true
   },
   "outputs": [
    {
     "name": "stderr",
     "output_type": "stream",
     "text": [
      "DEBUG:root:1: 디버깅 데이터\n",
      "ERROR:root:2: 이 부분은 오류 로그\n",
      "DEBUG:root:3: 추가 디버깅 데이터\n"
     ]
    }
   ],
   "source": [
    "with debug_logging(logging.DEBUG):\n",
    "    my_function()"
   ]
  },
  {
   "cell_type": "code",
   "execution_count": 23,
   "metadata": {
    "scrolled": true
   },
   "outputs": [
    {
     "name": "stderr",
     "output_type": "stream",
     "text": [
      "ERROR:root:2: 이 부분은 오류 로그\n"
     ]
    }
   ],
   "source": [
    "my_function()"
   ]
  },
  {
   "cell_type": "markdown",
   "metadata": {},
   "source": [
    "## with와 대상변수(컨텍스트 객체) 함께 사용하기"
   ]
  },
  {
   "cell_type": "code",
   "execution_count": 26,
   "metadata": {},
   "outputs": [],
   "source": [
    "@contextmanager\n",
    "def log_level(level, name):\n",
    "    logger = logging.getLogger(name)\n",
    "    old_level = logger.getEffectiveLevel()\n",
    "#     print(old_level)\n",
    "    logger.setLevel(level)\n",
    "#     print(logger.getEffectiveLevel())\n",
    "    try:\n",
    "        yield logger                      # with 블록의 내용이 실행되는 부분을 지정\n",
    "    finally:\n",
    "        logger.setLevel(old_level)  "
   ]
  },
  {
   "cell_type": "code",
   "execution_count": 27,
   "metadata": {},
   "outputs": [
    {
     "name": "stderr",
     "output_type": "stream",
     "text": [
      "DEBUG:my-log:대상: my-log!\n"
     ]
    }
   ],
   "source": [
    "with log_level(logging.DEBUG, 'my-log') as logger:\n",
    "    logger.debug(f'대상: {logger.name}!')\n",
    "    logging.debug('이 메세지는 출력되지 않습니다.')"
   ]
  },
  {
   "cell_type": "markdown",
   "metadata": {},
   "source": [
    "# 참고자료"
   ]
  },
  {
   "cell_type": "markdown",
   "metadata": {},
   "source": [
    "- [파이썬의 컨텍스트 매니저](https://sjquant.tistory.com/12)\n",
    "- [컨텍스트란 정지된 것이 아니라 끊임없이 흘러가는 하나의 상태(status)](https://organicmedia2.pressbooks.com/chapter/4-elements-of-context/)"
   ]
  }
 ],
 "metadata": {
  "kernelspec": {
   "display_name": "Python 3",
   "language": "python",
   "name": "python3"
  },
  "language_info": {
   "codemirror_mode": {
    "name": "ipython",
    "version": 3
   },
   "file_extension": ".py",
   "mimetype": "text/x-python",
   "name": "python",
   "nbconvert_exporter": "python",
   "pygments_lexer": "ipython3",
   "version": "3.8.5"
  }
 },
 "nbformat": 4,
 "nbformat_minor": 4
}
