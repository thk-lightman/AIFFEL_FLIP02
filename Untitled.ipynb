{
 "cells": [
  {
   "cell_type": "code",
   "execution_count": 1,
   "metadata": {},
   "outputs": [],
   "source": [
    "a = 3\n",
    "b = 2"
   ]
  },
  {
   "cell_type": "code",
   "execution_count": 7,
   "metadata": {},
   "outputs": [],
   "source": [
    "c = a = b = 1"
   ]
  },
  {
   "cell_type": "code",
   "execution_count": 9,
   "metadata": {},
   "outputs": [],
   "source": [
    "car_inve = {\n",
    "    '시내' : ('그랜저','이','ㅇㅂ'),\n",
    "    '시외' : ('그랜저','이','ㅇㅂ')\n",
    "}"
   ]
  },
  {
   "cell_type": "code",
   "execution_count": 10,
   "metadata": {},
   "outputs": [
    {
     "data": {
      "text/plain": [
       "dict_items([('시내', ('그랜저', '이', 'ㅇㅂ')), ('시외', ('그랜저', '이', 'ㅇㅂ'))])"
      ]
     },
     "execution_count": 10,
     "metadata": {},
     "output_type": "execute_result"
    }
   ],
   "source": [
    "car_inve.items()"
   ]
  },
  {
   "cell_type": "code",
   "execution_count": 11,
   "metadata": {},
   "outputs": [
    {
     "name": "stdout",
     "output_type": "stream",
     "text": [
      "Help on built-in function iter in module builtins:\n",
      "\n",
      "iter(...)\n",
      "    iter(iterable) -> iterator\n",
      "    iter(callable, sentinel) -> iterator\n",
      "    \n",
      "    Get an iterator from an object.  In the first form, the argument must\n",
      "    supply its own iterator, or be a sequence.\n",
      "    In the second form, the callable is called until it returns the sentinel.\n",
      "\n"
     ]
    }
   ],
   "source": [
    "help(iter)"
   ]
  },
  {
   "cell_type": "code",
   "execution_count": 12,
   "metadata": {},
   "outputs": [],
   "source": [
    "first, second = range(1,3)"
   ]
  },
  {
   "cell_type": "code",
   "execution_count": 13,
   "metadata": {},
   "outputs": [
    {
     "data": {
      "text/plain": [
       "1"
      ]
     },
     "execution_count": 13,
     "metadata": {},
     "output_type": "execute_result"
    }
   ],
   "source": [
    "first"
   ]
  },
  {
   "cell_type": "code",
   "execution_count": 14,
   "metadata": {},
   "outputs": [
    {
     "data": {
      "text/plain": [
       "2"
      ]
     },
     "execution_count": 14,
     "metadata": {},
     "output_type": "execute_result"
    }
   ],
   "source": [
    "second"
   ]
  },
  {
   "cell_type": "code",
   "execution_count": 11,
   "metadata": {},
   "outputs": [],
   "source": [
    "def log(sequence=1, *values, match):\n",
    "    print(f'sequence = {sequence}')\n",
    "    for _ in values :\n",
    "        print('values')\n",
    "    print(f'match = {match}')"
   ]
  },
  {
   "cell_type": "code",
   "execution_count": 14,
   "metadata": {},
   "outputs": [
    {
     "name": "stdout",
     "output_type": "stream",
     "text": [
      "sequence = 3\n",
      "values\n",
      "values\n",
      "values\n",
      "match = 2\n"
     ]
    }
   ],
   "source": [
    "my_list = [1,2,3]\n",
    "log(3, *my_list, match = 2)\n",
    "# log(sequence=3, *my_list, match = 2)\n",
    "# log(3, *my_list, 2)\n"
   ]
  },
  {
   "cell_type": "code",
   "execution_count": 9,
   "metadata": {},
   "outputs": [],
   "source": [
    "def print_parameters(**kwargs):\n",
    "    if not kwargs :\n",
    "        print('비었어요!')\n",
    "    for key, value in kwargs.items():\n",
    "        print(f'{key} = {value}')"
   ]
  },
  {
   "cell_type": "code",
   "execution_count": 10,
   "metadata": {},
   "outputs": [
    {
     "name": "stdout",
     "output_type": "stream",
     "text": [
      "a = 1\n",
      "b = 2\n",
      "비었어요!\n"
     ]
    }
   ],
   "source": [
    "print_parameters(**{'a':1,'b':2})\n",
    "print_parameters()"
   ]
  },
  {
   "cell_type": "code",
   "execution_count": 8,
   "metadata": {},
   "outputs": [],
   "source": [
    "print_parameters()"
   ]
  },
  {
   "cell_type": "code",
   "execution_count": 22,
   "metadata": {},
   "outputs": [],
   "source": [
    "def careful_divide(a, b):\n",
    "    try: \n",
    "        return a/b\n",
    "    except ZeroDivisionError as e: \n",
    "        raise ValueError(f'잘못된 입력. {e}')"
   ]
  },
  {
   "cell_type": "code",
   "execution_count": 23,
   "metadata": {},
   "outputs": [
    {
     "name": "stdout",
     "output_type": "stream",
     "text": [
      "잘잘못된 입력. 잘못된 입력. division by zero\n"
     ]
    }
   ],
   "source": [
    "x, y = 5, 0\n",
    "try :\n",
    "    result = careful_divide(x, y)\n",
    "except ValueError as e:\n",
    "    print(f'잘잘못된 입력. {e}')\n",
    "else:\n",
    "    print(f'결과는 {result:.1f} 입니다.')"
   ]
  },
  {
   "cell_type": "code",
   "execution_count": 1,
   "metadata": {},
   "outputs": [],
   "source": [
    "my_dict = {key : value for key, value in enumerate(range(50,100), 1)}"
   ]
  },
  {
   "cell_type": "code",
   "execution_count": 2,
   "metadata": {},
   "outputs": [
    {
     "data": {
      "text/plain": [
       "{1: 50,\n",
       " 2: 51,\n",
       " 3: 52,\n",
       " 4: 53,\n",
       " 5: 54,\n",
       " 6: 55,\n",
       " 7: 56,\n",
       " 8: 57,\n",
       " 9: 58,\n",
       " 10: 59,\n",
       " 11: 60,\n",
       " 12: 61,\n",
       " 13: 62,\n",
       " 14: 63,\n",
       " 15: 64,\n",
       " 16: 65,\n",
       " 17: 66,\n",
       " 18: 67,\n",
       " 19: 68,\n",
       " 20: 69,\n",
       " 21: 70,\n",
       " 22: 71,\n",
       " 23: 72,\n",
       " 24: 73,\n",
       " 25: 74,\n",
       " 26: 75,\n",
       " 27: 76,\n",
       " 28: 77,\n",
       " 29: 78,\n",
       " 30: 79,\n",
       " 31: 80,\n",
       " 32: 81,\n",
       " 33: 82,\n",
       " 34: 83,\n",
       " 35: 84,\n",
       " 36: 85,\n",
       " 37: 86,\n",
       " 38: 87,\n",
       " 39: 88,\n",
       " 40: 89,\n",
       " 41: 90,\n",
       " 42: 91,\n",
       " 43: 92,\n",
       " 44: 93,\n",
       " 45: 94,\n",
       " 46: 95,\n",
       " 47: 96,\n",
       " 48: 97,\n",
       " 49: 98,\n",
       " 50: 99}"
      ]
     },
     "execution_count": 2,
     "metadata": {},
     "output_type": "execute_result"
    }
   ],
   "source": [
    "my_dict"
   ]
  },
  {
   "cell_type": "code",
   "execution_count": null,
   "metadata": {},
   "outputs": [],
   "source": []
  }
 ],
 "metadata": {
  "kernelspec": {
   "display_name": "Python 3",
   "language": "python",
   "name": "python3"
  },
  "language_info": {
   "codemirror_mode": {
    "name": "ipython",
    "version": 3
   },
   "file_extension": ".py",
   "mimetype": "text/x-python",
   "name": "python",
   "nbconvert_exporter": "python",
   "pygments_lexer": "ipython3",
   "version": "3.8.5"
  }
 },
 "nbformat": 4,
 "nbformat_minor": 4
}
