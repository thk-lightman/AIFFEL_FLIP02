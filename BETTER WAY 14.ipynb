{
 "cells": [
  {
   "cell_type": "markdown",
   "metadata": {},
   "source": [
    "# 복잡한 기준을 사용해 정렬할 때 key 파라미터!"
   ]
  },
  {
   "cell_type": "markdown",
   "metadata": {},
   "source": [
    "- list에는 sort(...) 메소드가 존재해서 이를 통해 정렬할 수 있다.\n",
    "    - 작동방식\n",
    "        - default: 객체비교 특별 메서드 이용\n",
    "        - key: key값으로 전달한 함수의 결과값을 이용해 정렬\n",
    "- key값을 전달하는 경우\n",
    "    - 하나의 기준\n",
    "    - 여러개의 기준\n",
    "        - tuple 사용\n",
    "        - sort( ... ) 여러번 사용: 원하는 순서의 역순으로 적용!\n",
    "       "
   ]
  },
  {
   "cell_type": "markdown",
   "metadata": {},
   "source": [
    "## 1. Tuple을 사용하는 경우\n",
    " - ( a, b ) : 첫 번째 요소인 a끼리 비교한 후 값이 같으면 두 번째 요소를 비교함\n",
    "     - 문제점: 여러개의 기준임에도 불구하고 정렬방식(오름차순, 내림차순)이 모두 동일!\n",
    "     - 해결\n",
    "         - 숫자형의 경우: 음의 부호를 이용\n",
    "         - 일반적인 경우: sort(...)를 여러번 사용"
   ]
  },
  {
   "cell_type": "code",
   "execution_count": 1,
   "metadata": {},
   "outputs": [],
   "source": [
    "class Tool:\n",
    "    def __init__(self, name, weight):\n",
    "            self.name = name\n",
    "            self.weight = weight\n",
    "    def __repr__(self):\n",
    "        return f'Tool({self.name!r},{self.weight})'\n",
    "    \n",
    "power_tools = [\n",
    "    Tool('드릴', 4),\n",
    "    Tool('원형 톱', 5),\n",
    "    Tool('착암기', 40),\n",
    "    Tool('연마기', 4)\n",
    "]"
   ]
  },
  {
   "cell_type": "code",
   "execution_count": 4,
   "metadata": {},
   "outputs": [
    {
     "data": {
      "text/plain": [
       "[Tool('드릴',4), Tool('연마기',4), Tool('원형 톱',5), Tool('착암기',40)]"
      ]
     },
     "execution_count": 4,
     "metadata": {},
     "output_type": "execute_result"
    }
   ],
   "source": [
    "power_tools.sort( key = lambda x: ( x.weight, x.name ) )\n",
    "power_tools"
   ]
  },
  {
   "cell_type": "code",
   "execution_count": 5,
   "metadata": {},
   "outputs": [
    {
     "data": {
      "text/plain": [
       "[Tool('착암기',40), Tool('원형 톱',5), Tool('드릴',4), Tool('연마기',4)]"
      ]
     },
     "execution_count": 5,
     "metadata": {},
     "output_type": "execute_result"
    }
   ],
   "source": [
    "power_tools.sort( key = lambda x: ( -x.weight, x.name ) )\n",
    "power_tools"
   ]
  },
  {
   "cell_type": "markdown",
   "metadata": {},
   "source": [
    "## 2. 일반적인 경우: Sort를 여러번 쓰자!\n",
    "- weight 기준 내림차순 정렬 후 이름 기준 오름차순 정렬!"
   ]
  },
  {
   "cell_type": "code",
   "execution_count": 6,
   "metadata": {},
   "outputs": [
    {
     "data": {
      "text/plain": [
       "[Tool('드릴',4), Tool('연마기',4), Tool('원형 톱',5), Tool('착암기',40)]"
      ]
     },
     "execution_count": 6,
     "metadata": {},
     "output_type": "execute_result"
    }
   ],
   "source": [
    "power_tools.sort(key = lambda x: x.name)\n",
    "power_tools"
   ]
  },
  {
   "cell_type": "code",
   "execution_count": 7,
   "metadata": {},
   "outputs": [
    {
     "data": {
      "text/plain": [
       "[Tool('착암기',40), Tool('원형 톱',5), Tool('드릴',4), Tool('연마기',4)]"
      ]
     },
     "execution_count": 7,
     "metadata": {},
     "output_type": "execute_result"
    }
   ],
   "source": [
    "power_tools.sort(key = lambda x: x.weight, reverse = True)\n",
    "power_tools"
   ]
  }
 ],
 "metadata": {
  "kernelspec": {
   "display_name": "Python 3",
   "language": "python",
   "name": "python3"
  },
  "language_info": {
   "codemirror_mode": {
    "name": "ipython",
    "version": 3
   },
   "file_extension": ".py",
   "mimetype": "text/x-python",
   "name": "python",
   "nbconvert_exporter": "python",
   "pygments_lexer": "ipython3",
   "version": "3.8.5"
  }
 },
 "nbformat": 4,
 "nbformat_minor": 4
}
